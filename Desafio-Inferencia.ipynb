{
 "cells": [
  {
   "cell_type": "markdown",
   "metadata": {},
   "source": [
    "### Dicionarios das variaveis"
   ]
  },
  {
   "cell_type": "code",
   "execution_count": 2,
   "metadata": {},
   "outputs": [],
   "source": [
    "import warnings\n",
    "warnings.filterwarnings(\"ignore\")\n",
    "import pandas as pd\n",
    "import pingouin as pg\n",
    "from pingouin import pairwise_corr\n",
    "import seaborn as sns\n",
    "import matplotlib.pyplot as plt\n",
    "import numpy as np\n",
    "from scipy import stats\n",
    "import pingouin as pg\n",
    "import random \n",
    "import scipy.stats\n",
    "from scipy import stats\n",
    "import janitor"
   ]
  },
  {
   "cell_type": "code",
   "execution_count": 5,
   "metadata": {},
   "outputs": [],
   "source": [
    "base_PAG_HEI = pd.read_csv('PAG_HEI.csv')\n",
    "base_PHQ = pd.read_csv('DEMO_PHQ.csv')"
   ]
  },
  {
   "cell_type": "markdown",
   "metadata": {},
   "source": [
    "### 1. Agrupamento dos bancos de dados"
   ]
  },
  {
   "cell_type": "code",
   "execution_count": 18,
   "metadata": {},
   "outputs": [
    {
     "data": {
      "text/plain": [
       "Index(['SEQN', 'DPQ010', 'DPQ020', 'DPQ030', 'DPQ040', 'DPQ050', 'DPQ060',\n",
       "       'DPQ070', 'DPQ080', 'DPQ090', 'RIAGENDR', 'RIDAGEYR', 'RIDRETH1',\n",
       "       'DMDEDUC', 'INDFMINC'],\n",
       "      dtype='object')"
      ]
     },
     "execution_count": 18,
     "metadata": {},
     "output_type": "execute_result"
    }
   ],
   "source": [
    "#VERIFICAÇÃO DOS VALORES DE CADA BASE E COLUNAS\n",
    "#base_PAG_HEI.head()\n",
    "#base_PHQ.head()\n",
    "\n",
    "base_PAG_HEI.columns\n",
    "base_PHQ.columns"
   ]
  },
  {
   "cell_type": "code",
   "execution_count": 14,
   "metadata": {},
   "outputs": [
    {
     "data": {
      "text/plain": [
       "(5334, 15)"
      ]
     },
     "execution_count": 14,
     "metadata": {},
     "output_type": "execute_result"
    }
   ],
   "source": [
    "#VERIFICANDO TAMANHO DAS BASES\n",
    "base_PAG_HEI.shape\n",
    "base_PHQ.shape"
   ]
  },
  {
   "cell_type": "code",
   "execution_count": 21,
   "metadata": {},
   "outputs": [],
   "source": [
    "#JOIN DAS COLUNAS POR MÉTODO OUTER JOIN, PARA PEGAR AS COLUNAS ÚNICAS DAS DUAS BASES\n",
    "base = base_PHQ.merge(base_PAG_HEI, on='SEQN', how='outer')\n",
    "base.to_csv('base_agrupada.csv')"
   ]
  },
  {
   "cell_type": "markdown",
   "metadata": {},
   "source": [
    "### 2. Inspeção da base de dados agrupada"
   ]
  },
  {
   "cell_type": "markdown",
   "metadata": {},
   "source": [
    "#### 2.1 Verificação e alteração dos tipos de dados nas colunas\n"
   ]
  },
  {
   "cell_type": "code",
   "execution_count": 65,
   "metadata": {},
   "outputs": [
    {
     "name": "stdout",
     "output_type": "stream",
     "text": [
      "<class 'pandas.core.frame.DataFrame'>\n",
      "Int64Index: 9424 entries, 0 to 9423\n",
      "Data columns (total 31 columns):\n",
      " #   Column                    Non-Null Count  Dtype  \n",
      "---  ------                    --------------  -----  \n",
      " 0   SEQN                      9424 non-null   int64  \n",
      " 1   DPQ010                    4836 non-null   float64\n",
      " 2   DPQ020                    4836 non-null   float64\n",
      " 3   DPQ030                    4836 non-null   float64\n",
      " 4   DPQ040                    4836 non-null   float64\n",
      " 5   DPQ050                    4836 non-null   float64\n",
      " 6   DPQ060                    4836 non-null   float64\n",
      " 7   DPQ070                    4836 non-null   float64\n",
      " 8   DPQ080                    4836 non-null   float64\n",
      " 9   DPQ090                    4836 non-null   float64\n",
      " 10  RIAGENDR                  5334 non-null   float64\n",
      " 11  RIDAGEYR                  5334 non-null   float64\n",
      " 12  RIDRETH1                  5334 non-null   float64\n",
      " 13  DMDEDUC                   5334 non-null   float64\n",
      " 14  INDFMINC                  5287 non-null   float64\n",
      " 15  PAG_MINW                  7150 non-null   float64\n",
      " 16  ADHERENCE                 7150 non-null   float64\n",
      " 17  HEI2015C1_TOTALVEG        8549 non-null   float64\n",
      " 18  HEI2015C2_GREEN_AND_BEAN  8549 non-null   float64\n",
      " 19  HEI2015C3_TOTALFRUIT      8549 non-null   float64\n",
      " 20  HEI2015C4_WHOLEFRUIT      8549 non-null   float64\n",
      " 21  HEI2015C5_WHOLEGRAIN      8549 non-null   float64\n",
      " 22  HEI2015C6_TOTALDAIRY      8549 non-null   float64\n",
      " 23  HEI2015C7_TOTPROT         8549 non-null   float64\n",
      " 24  HEI2015C8_SEAPLANT_PROT   8549 non-null   float64\n",
      " 25  HEI2015C9_FATTYACID       8549 non-null   float64\n",
      " 26  HEI2015C10_SODIUM         8549 non-null   float64\n",
      " 27  HEI2015C11_REFINEDGRAIN   8549 non-null   float64\n",
      " 28  HEI2015C12_SFAT           8549 non-null   float64\n",
      " 29  HEI2015C13_ADDSUG         8549 non-null   float64\n",
      " 30  HEI2015_TOTAL_SCORE       8549 non-null   float64\n",
      "dtypes: float64(30), int64(1)\n",
      "memory usage: 2.6 MB\n"
     ]
    }
   ],
   "source": [
    "#OBTENDO OS TIPOS DAS COLUNAS\n",
    "base.info()"
   ]
  },
  {
   "cell_type": "code",
   "execution_count": 66,
   "metadata": {},
   "outputs": [],
   "source": [
    "'''AS COLUNAS DO PHQ TEM O VALOR EM FLOAT E SERÃO SOMADAS PARA OBTENÇÃO DO SCORE, NO ENTANTO, OS VALORES \"7\" E \"9\" SÃO REFERENTES ÀS PESSOAS QUE NÃO RESPONDERAM O QUESTIONÁRIO E, POR ISSO, DEVEM SER DESCONSIDERADOS. POR HORA, VOU VERIFICAR O NÚMERO DE SETES E NOVES EM CADA UMA DESSAS COLUNAS E ALTERAREI OS VALORES PARA 0\n",
    "NÃO HÁ NENHUM NÚMERO \"7\" E OS \"9\" SÃO POUCOS NÚMEROS, ENTÃO A ALTERAÇÃO NÃO DEVE MODIFICAR MUITO A LEITURA DA BASE'''\n",
    "#base.info()\n",
    "\n",
    "for column in base.iloc[:, 1:10]:\n",
    "#    print(base[column].value_counts())\n",
    "    base[column].replace(9.0, 0.0, inplace=True)"
   ]
  },
  {
   "cell_type": "code",
   "execution_count": 78,
   "metadata": {},
   "outputs": [
    {
     "name": "stdout",
     "output_type": "stream",
     "text": [
      "2.0    2773\n",
      "1.0    2561\n",
      "Name: RIAGENDR, dtype: int64\n",
      "3.0    2516\n",
      "4.0    1300\n",
      "1.0    1133\n",
      "5.0     221\n",
      "2.0     164\n",
      "Name: RIDRETH1, dtype: int64\n",
      "4.0    1498\n",
      "3.0    1335\n",
      "5.0     939\n",
      "2.0     936\n",
      "1.0     618\n",
      "7.0       4\n",
      "9.0       4\n",
      "Name: DMDEDUC, dtype: int64\n",
      "11.0    1044\n",
      "6.0      678\n",
      "7.0      535\n",
      "8.0      485\n",
      "3.0      440\n",
      "5.0      426\n",
      "4.0      412\n",
      "9.0      297\n",
      "2.0      281\n",
      "10.0     278\n",
      "1.0      190\n",
      "12.0      78\n",
      "99.0      77\n",
      "77.0      36\n",
      "13.0      30\n",
      "Name: INDFMINC, dtype: int64\n",
      "3.0    3295\n",
      "1.0    2761\n",
      "2.0    1094\n",
      "Name: ADHERENCE, dtype: int64\n",
      "<class 'pandas.core.frame.DataFrame'>\n",
      "Int64Index: 9424 entries, 0 to 9423\n",
      "Data columns (total 31 columns):\n",
      " #   Column                    Non-Null Count  Dtype   \n",
      "---  ------                    --------------  -----   \n",
      " 0   SEQN                      9424 non-null   int64   \n",
      " 1   DPQ010                    4836 non-null   float64 \n",
      " 2   DPQ020                    4836 non-null   float64 \n",
      " 3   DPQ030                    4836 non-null   float64 \n",
      " 4   DPQ040                    4836 non-null   float64 \n",
      " 5   DPQ050                    4836 non-null   float64 \n",
      " 6   DPQ060                    4836 non-null   float64 \n",
      " 7   DPQ070                    4836 non-null   float64 \n",
      " 8   DPQ080                    4836 non-null   float64 \n",
      " 9   DPQ090                    4836 non-null   float64 \n",
      " 10  RIAGENDR                  5334 non-null   category\n",
      " 11  RIDAGEYR                  5334 non-null   float64 \n",
      " 12  RIDRETH1                  5334 non-null   category\n",
      " 13  DMDEDUC                   5334 non-null   category\n",
      " 14  INDFMINC                  5287 non-null   category\n",
      " 15  PAG_MINW                  7150 non-null   float64 \n",
      " 16  ADHERENCE                 7150 non-null   category\n",
      " 17  HEI2015C1_TOTALVEG        8549 non-null   float64 \n",
      " 18  HEI2015C2_GREEN_AND_BEAN  8549 non-null   float64 \n",
      " 19  HEI2015C3_TOTALFRUIT      8549 non-null   float64 \n",
      " 20  HEI2015C4_WHOLEFRUIT      8549 non-null   float64 \n",
      " 21  HEI2015C5_WHOLEGRAIN      8549 non-null   float64 \n",
      " 22  HEI2015C6_TOTALDAIRY      8549 non-null   float64 \n",
      " 23  HEI2015C7_TOTPROT         8549 non-null   float64 \n",
      " 24  HEI2015C8_SEAPLANT_PROT   8549 non-null   float64 \n",
      " 25  HEI2015C9_FATTYACID       8549 non-null   float64 \n",
      " 26  HEI2015C10_SODIUM         8549 non-null   float64 \n",
      " 27  HEI2015C11_REFINEDGRAIN   8549 non-null   float64 \n",
      " 28  HEI2015C12_SFAT           8549 non-null   float64 \n",
      " 29  HEI2015C13_ADDSUG         8549 non-null   float64 \n",
      " 30  HEI2015_TOTAL_SCORE       8549 non-null   float64 \n",
      "dtypes: category(5), float64(25), int64(1)\n",
      "memory usage: 2.2 MB\n"
     ]
    }
   ],
   "source": [
    "#ALGUMAS VARIÁVEIS CATEGÓRICAS ESTÃO COMO TIPO FLOAT. ALTERO PARA 'CATEGORY' PARA FACILITAR A ANÁLISE\n",
    "for column in ['RIAGENDR', 'RIDRETH1', 'DMDEDUC', 'INDFMINC', 'ADHERENCE']:\n",
    "#    print(base[column].value_counts())\n",
    "    base[column] = base[column].astype('category')\n",
    "\n",
    "base.info()"
   ]
  },
  {
   "cell_type": "code",
   "execution_count": 95,
   "metadata": {},
   "outputs": [
    {
     "name": "stdout",
     "output_type": "stream",
     "text": [
      "       SEQN  DPQ010  DPQ020  DPQ030  DPQ040  DPQ050  DPQ060  DPQ070  DPQ080  \\\n",
      "1     31131     0.0     0.0     0.0     0.0     0.0     0.0     0.0     0.0   \n",
      "2     31132     0.0     0.0     0.0     0.0     0.0     0.0     0.0     0.0   \n",
      "3     31134     0.0     0.0     0.0     0.0     0.0     0.0     0.0     0.0   \n",
      "4     31139     0.0     0.0     0.0     0.0     3.0     1.0     0.0     0.0   \n",
      "5     31143     0.0     1.0     1.0     1.0     1.0     1.0     1.0     0.0   \n",
      "...     ...     ...     ...     ...     ...     ...     ...     ...     ...   \n",
      "9418  41448     NaN     NaN     NaN     NaN     NaN     NaN     NaN     NaN   \n",
      "9420  41456     NaN     NaN     NaN     NaN     NaN     NaN     NaN     NaN   \n",
      "9421  41467     NaN     NaN     NaN     NaN     NaN     NaN     NaN     NaN   \n",
      "9422  41471     NaN     NaN     NaN     NaN     NaN     NaN     NaN     NaN   \n",
      "9423  41474     NaN     NaN     NaN     NaN     NaN     NaN     NaN     NaN   \n",
      "\n",
      "      DPQ090  ... HEI2015C5_WHOLEGRAIN  HEI2015C6_TOTALDAIRY  \\\n",
      "1        0.0  ...             0.000000              3.141062   \n",
      "2        0.0  ...             5.000000              4.448512   \n",
      "3        0.0  ...             2.217331              2.313900   \n",
      "4        0.0  ...             0.211544              0.000000   \n",
      "5        0.0  ...             1.444002              5.000000   \n",
      "...      ...  ...                  ...                   ...   \n",
      "9418     NaN  ...             1.644399              5.000000   \n",
      "9420     NaN  ...             3.828484              5.000000   \n",
      "9421     NaN  ...             0.000000              5.000000   \n",
      "9422     NaN  ...             0.463168              4.662005   \n",
      "9423     NaN  ...             5.000000              5.000000   \n",
      "\n",
      "     HEI2015C7_TOTPROT HEI2015C8_SEAPLANT_PROT HEI2015C9_FATTYACID  \\\n",
      "1             4.071959                2.052399            0.684985   \n",
      "2             5.000000                0.000000            2.050769   \n",
      "3             5.000000                1.268648            2.958985   \n",
      "4             4.088849                4.221442           10.000000   \n",
      "5             3.372033                0.000000            0.002362   \n",
      "...                ...                     ...                 ...   \n",
      "9418          2.399060                0.000000            2.998350   \n",
      "9420          3.116386                5.000000            0.000000   \n",
      "9421          5.000000                0.000000            6.098940   \n",
      "9422          5.000000                1.191796            6.145146   \n",
      "9423          4.304982                5.000000            2.162293   \n",
      "\n",
      "      HEI2015C10_SODIUM HEI2015C11_REFINEDGRAIN  HEI2015C12_SFAT  \\\n",
      "1              2.297100                9.512964         0.438428   \n",
      "2              7.369489                8.887880         8.186877   \n",
      "3              0.000000                5.627488         5.863078   \n",
      "4              2.845774                0.000000        10.000000   \n",
      "5              5.223435                7.787420         0.000000   \n",
      "...                 ...                     ...              ...   \n",
      "9418           5.822281                4.632095         5.265324   \n",
      "9420          10.000000               10.000000         3.091836   \n",
      "9421           0.476004                0.000000         7.513204   \n",
      "9422           3.189620                3.766149         3.974279   \n",
      "9423           7.018993               10.000000         7.541082   \n",
      "\n",
      "      HEI2015C13_ADDSUG  HEI2015_TOTAL_SCORE  \n",
      "1              3.919226            35.553899  \n",
      "2              9.099088            63.551696  \n",
      "3              5.878686            42.886826  \n",
      "4              9.658507            47.074393  \n",
      "5             10.000000            46.086131  \n",
      "...                 ...                  ...  \n",
      "9418           2.182744            35.404171  \n",
      "9420           2.718813            55.556054  \n",
      "9421           9.693030            44.844719  \n",
      "9422           7.758940            45.310883  \n",
      "9423           0.000000            52.805494  \n",
      "\n",
      "[8549 rows x 31 columns]\n"
     ]
    }
   ],
   "source": [
    "#FALTA, AINDA, CHECAR SE NÃO EXISTEM VALORES ESTRANHOS NOS SCORES DO HEI\n",
    "\n",
    "#erros = base[base['HEI2015C1_TOTALVEG'].between(0,5)]\n",
    "\n",
    "for item in base.loc[:, 'HEI2015C1_TOTALVEG': 'HEI2015C13_ADDSUG']:\n",
    "    if base.loc[base[item]] < 0:\n",
    "        print('Problema')\n"
   ]
  },
  {
   "cell_type": "markdown",
   "metadata": {},
   "source": [
    "#### 2.2 Tratamento de valores nulos"
   ]
  },
  {
   "cell_type": "code",
   "execution_count": null,
   "metadata": {},
   "outputs": [],
   "source": [
    "#ENCONTRANDO OS VALORES NULOS DA BASE"
   ]
  }
 ],
 "metadata": {
  "kernelspec": {
   "display_name": "Python 3.9.6 64-bit",
   "language": "python",
   "name": "python3"
  },
  "language_info": {
   "codemirror_mode": {
    "name": "ipython",
    "version": 3
   },
   "file_extension": ".py",
   "mimetype": "text/x-python",
   "name": "python",
   "nbconvert_exporter": "python",
   "pygments_lexer": "ipython3",
   "version": "3.9.6"
  },
  "orig_nbformat": 4,
  "vscode": {
   "interpreter": {
    "hash": "d1b1fed7f164b9743db0488a8442b0484c62425777d2b5a8f2dd650d8bcba271"
   }
  }
 },
 "nbformat": 4,
 "nbformat_minor": 2
}
