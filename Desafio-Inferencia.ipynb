{
 "cells": [
  {
   "cell_type": "markdown",
   "metadata": {},
   "source": [
    "### Dicionarios das variaveis"
   ]
  },
  {
   "cell_type": "code",
   "execution_count": 1,
   "metadata": {},
   "outputs": [],
   "source": [
    "import warnings\n",
    "warnings.filterwarnings(\"ignore\")\n",
    "import pandas as pd\n",
    "import pingouin as pg\n",
    "from pingouin import pairwise_corr\n",
    "import seaborn as sns\n",
    "import matplotlib.pyplot as plt\n",
    "import numpy as np\n",
    "from scipy import stats\n",
    "import pingouin as pg\n",
    "import random \n",
    "import scipy.stats\n",
    "from scipy import stats\n",
    "import janitor"
   ]
  },
  {
   "cell_type": "code",
   "execution_count": 2,
   "metadata": {},
   "outputs": [],
   "source": [
    "base_PAG_HEI = pd.read_csv('PAG_HEI.csv')\n",
    "base_PHQ = pd.read_csv('DEMO_PHQ.csv')"
   ]
  },
  {
   "cell_type": "markdown",
   "metadata": {},
   "source": [
    "### 1. Agrupamento dos bancos de dados"
   ]
  },
  {
   "cell_type": "code",
   "execution_count": 3,
   "metadata": {},
   "outputs": [
    {
     "data": {
      "text/plain": [
       "Index(['SEQN', 'DPQ010', 'DPQ020', 'DPQ030', 'DPQ040', 'DPQ050', 'DPQ060',\n",
       "       'DPQ070', 'DPQ080', 'DPQ090', 'RIAGENDR', 'RIDAGEYR', 'RIDRETH1',\n",
       "       'DMDEDUC', 'INDFMINC'],\n",
       "      dtype='object')"
      ]
     },
     "execution_count": 3,
     "metadata": {},
     "output_type": "execute_result"
    }
   ],
   "source": [
    "#VERIFICAÇÃO DOS VALORES DE CADA BASE E COLUNAS\n",
    "#base_PAG_HEI.head()\n",
    "#base_PHQ.head()\n",
    "\n",
    "#base_PAG_HEI.columns\n",
    "base_PHQ.columns"
   ]
  },
  {
   "cell_type": "code",
   "execution_count": 4,
   "metadata": {},
   "outputs": [
    {
     "data": {
      "text/plain": [
       "(5334, 15)"
      ]
     },
     "execution_count": 4,
     "metadata": {},
     "output_type": "execute_result"
    }
   ],
   "source": [
    "#VERIFICANDO TAMANHO DAS BASES\n",
    "#base_PAG_HEI.shape\n",
    "base_PHQ.shape"
   ]
  },
  {
   "cell_type": "code",
   "execution_count": 5,
   "metadata": {},
   "outputs": [
    {
     "data": {
      "text/plain": [
       "0"
      ]
     },
     "execution_count": 5,
     "metadata": {},
     "output_type": "execute_result"
    }
   ],
   "source": [
    "#CHECANDO SE EXISTEM LINHAS DUPLICADAS ANTES DE REALIZAR A JUNÇÃO DAS BASES\n",
    "base_PAG_HEI.duplicated().sum()\n",
    "base_PHQ.duplicated().sum()"
   ]
  },
  {
   "cell_type": "code",
   "execution_count": 6,
   "metadata": {},
   "outputs": [],
   "source": [
    "#JOIN DAS COLUNAS POR MÉTODO OUTER JOIN, PARA PEGAR AS COLUNAS ÚNICAS DAS DUAS BASES\n",
    "base = base_PHQ.merge(base_PAG_HEI, on='SEQN', how='inner')\n",
    "base.to_csv('base_agrupada_inner.csv')"
   ]
  },
  {
   "cell_type": "markdown",
   "metadata": {},
   "source": [
    "###### O interessante dessa nova base é analisar a relação entre o índice de saúde mental e os hábitos saudáveis; assim, a junção que fez mais sentido é a \"inner\", ainda que desconsiderando algumas descrições da base do Patient Health Questionnaire, que é maior. Para o caso de análise de dados referentes apenas à base do PHQ essa pode ser utilizada invés dessa nova base, visto que tem dados relativos a um maior número de entrevistados. "
   ]
  },
  {
   "cell_type": "markdown",
   "metadata": {},
   "source": [
    "### 2. Inspeção da base de dados agrupada"
   ]
  },
  {
   "cell_type": "code",
   "execution_count": 7,
   "metadata": {},
   "outputs": [
    {
     "data": {
      "text/plain": [
       "(5334, 31)"
      ]
     },
     "execution_count": 7,
     "metadata": {},
     "output_type": "execute_result"
    }
   ],
   "source": [
    "base.shape"
   ]
  },
  {
   "cell_type": "markdown",
   "metadata": {},
   "source": [
    "#### 2.1 Verificação e alteração dos tipos de dados nas colunas\n"
   ]
  },
  {
   "cell_type": "code",
   "execution_count": 8,
   "metadata": {},
   "outputs": [
    {
     "name": "stdout",
     "output_type": "stream",
     "text": [
      "<class 'pandas.core.frame.DataFrame'>\n",
      "Int64Index: 5334 entries, 0 to 5333\n",
      "Data columns (total 31 columns):\n",
      " #   Column                    Non-Null Count  Dtype  \n",
      "---  ------                    --------------  -----  \n",
      " 0   SEQN                      5334 non-null   int64  \n",
      " 1   DPQ010                    4836 non-null   float64\n",
      " 2   DPQ020                    4836 non-null   float64\n",
      " 3   DPQ030                    4836 non-null   float64\n",
      " 4   DPQ040                    4836 non-null   float64\n",
      " 5   DPQ050                    4836 non-null   float64\n",
      " 6   DPQ060                    4836 non-null   float64\n",
      " 7   DPQ070                    4836 non-null   float64\n",
      " 8   DPQ080                    4836 non-null   float64\n",
      " 9   DPQ090                    4836 non-null   float64\n",
      " 10  RIAGENDR                  5334 non-null   int64  \n",
      " 11  RIDAGEYR                  5334 non-null   int64  \n",
      " 12  RIDRETH1                  5334 non-null   int64  \n",
      " 13  DMDEDUC                   5334 non-null   int64  \n",
      " 14  INDFMINC                  5287 non-null   float64\n",
      " 15  PAG_MINW                  5334 non-null   float64\n",
      " 16  ADHERENCE                 5334 non-null   float64\n",
      " 17  HEI2015C1_TOTALVEG        5060 non-null   float64\n",
      " 18  HEI2015C2_GREEN_AND_BEAN  5060 non-null   float64\n",
      " 19  HEI2015C3_TOTALFRUIT      5060 non-null   float64\n",
      " 20  HEI2015C4_WHOLEFRUIT      5060 non-null   float64\n",
      " 21  HEI2015C5_WHOLEGRAIN      5060 non-null   float64\n",
      " 22  HEI2015C6_TOTALDAIRY      5060 non-null   float64\n",
      " 23  HEI2015C7_TOTPROT         5060 non-null   float64\n",
      " 24  HEI2015C8_SEAPLANT_PROT   5060 non-null   float64\n",
      " 25  HEI2015C9_FATTYACID       5060 non-null   float64\n",
      " 26  HEI2015C10_SODIUM         5060 non-null   float64\n",
      " 27  HEI2015C11_REFINEDGRAIN   5060 non-null   float64\n",
      " 28  HEI2015C12_SFAT           5060 non-null   float64\n",
      " 29  HEI2015C13_ADDSUG         5060 non-null   float64\n",
      " 30  HEI2015_TOTAL_SCORE       5060 non-null   float64\n",
      "dtypes: float64(26), int64(5)\n",
      "memory usage: 1.3 MB\n"
     ]
    }
   ],
   "source": [
    "#OBTENDO OS TIPOS DAS COLUNAS\n",
    "base.info()"
   ]
  },
  {
   "cell_type": "code",
   "execution_count": 9,
   "metadata": {},
   "outputs": [
    {
     "name": "stdout",
     "output_type": "stream",
     "text": [
      "0.0    3850\n",
      "1.0     673\n",
      "2.0     180\n",
      "3.0     124\n",
      "9.0       9\n",
      "Name: DPQ010, dtype: int64\n",
      "0.0    3769\n",
      "1.0     769\n",
      "2.0     179\n",
      "3.0     114\n",
      "9.0       5\n",
      "Name: DPQ020, dtype: int64\n",
      "0.0    3152\n",
      "1.0    1071\n",
      "3.0     320\n",
      "2.0     286\n",
      "9.0       7\n",
      "Name: DPQ030, dtype: int64\n",
      "0.0    2429\n",
      "1.0    1706\n",
      "2.0     370\n",
      "3.0     326\n",
      "9.0       5\n",
      "Name: DPQ040, dtype: int64\n",
      "0.0    3813\n",
      "1.0     691\n",
      "3.0     168\n",
      "2.0     160\n",
      "9.0       4\n",
      "Name: DPQ050, dtype: int64\n",
      "0.0    4134\n",
      "1.0     513\n",
      "2.0      95\n",
      "3.0      89\n",
      "9.0       5\n",
      "Name: DPQ060, dtype: int64\n",
      "0.0    4070\n",
      "1.0     545\n",
      "2.0     118\n",
      "3.0      99\n",
      "9.0       4\n",
      "Name: DPQ070, dtype: int64\n",
      "0.0    4362\n",
      "1.0     341\n",
      "2.0      79\n",
      "3.0      45\n",
      "9.0       9\n",
      "Name: DPQ080, dtype: int64\n",
      "0.0    4667\n",
      "1.0     122\n",
      "2.0      32\n",
      "3.0      13\n",
      "9.0       2\n",
      "Name: DPQ090, dtype: int64\n"
     ]
    }
   ],
   "source": [
    "for column in base.iloc[:, 1:10]:\n",
    "    print(base[column].value_counts())"
   ]
  },
  {
   "cell_type": "code",
   "execution_count": 9,
   "metadata": {},
   "outputs": [],
   "source": [
    "'''AS COLUNAS DO PHQ TEM O VALOR EM FLOAT E SERÃO SOMADAS PARA OBTENÇÃO DO SCORE, NO ENTANTO, OS VALORES \"7\" E \"9\" SÃO REFERENTES ÀS PESSOAS QUE NÃO RESPONDERAM O QUESTIONÁRIO E, POR ISSO, DEVEM SER DESCONSIDERADOS. POR HORA, VOU VERIFICAR O NÚMERO DE SETES E NOVES EM CADA UMA DESSAS COLUNAS E ALTERAREI OS VALORES PARA 0\n",
    "NÃO HÁ NENHUM NÚMERO \"7\" E OS \"9\" SÃO POUCOS NÚMEROS, ENTÃO A ALTERAÇÃO NÃO DEVE MODIFICAR MUITO A LEITURA DA BASE'''\n",
    "#base.info()\n",
    "\n",
    "for column in base.iloc[:, 1:10]:\n",
    "#    print(base[column].value_counts())\n",
    "    base[column].replace(9.0, 0.0, inplace=True)"
   ]
  },
  {
   "cell_type": "code",
   "execution_count": 10,
   "metadata": {},
   "outputs": [
    {
     "name": "stdout",
     "output_type": "stream",
     "text": [
      "<class 'pandas.core.frame.DataFrame'>\n",
      "Int64Index: 5334 entries, 0 to 5333\n",
      "Data columns (total 31 columns):\n",
      " #   Column                    Non-Null Count  Dtype   \n",
      "---  ------                    --------------  -----   \n",
      " 0   SEQN                      5334 non-null   int64   \n",
      " 1   DPQ010                    4836 non-null   float64 \n",
      " 2   DPQ020                    4836 non-null   float64 \n",
      " 3   DPQ030                    4836 non-null   float64 \n",
      " 4   DPQ040                    4836 non-null   float64 \n",
      " 5   DPQ050                    4836 non-null   float64 \n",
      " 6   DPQ060                    4836 non-null   float64 \n",
      " 7   DPQ070                    4836 non-null   float64 \n",
      " 8   DPQ080                    4836 non-null   float64 \n",
      " 9   DPQ090                    4836 non-null   float64 \n",
      " 10  RIAGENDR                  5334 non-null   category\n",
      " 11  RIDAGEYR                  5334 non-null   int64   \n",
      " 12  RIDRETH1                  5334 non-null   category\n",
      " 13  DMDEDUC                   5334 non-null   category\n",
      " 14  INDFMINC                  5287 non-null   category\n",
      " 15  PAG_MINW                  5334 non-null   float64 \n",
      " 16  ADHERENCE                 5334 non-null   category\n",
      " 17  HEI2015C1_TOTALVEG        5060 non-null   float64 \n",
      " 18  HEI2015C2_GREEN_AND_BEAN  5060 non-null   float64 \n",
      " 19  HEI2015C3_TOTALFRUIT      5060 non-null   float64 \n",
      " 20  HEI2015C4_WHOLEFRUIT      5060 non-null   float64 \n",
      " 21  HEI2015C5_WHOLEGRAIN      5060 non-null   float64 \n",
      " 22  HEI2015C6_TOTALDAIRY      5060 non-null   float64 \n",
      " 23  HEI2015C7_TOTPROT         5060 non-null   float64 \n",
      " 24  HEI2015C8_SEAPLANT_PROT   5060 non-null   float64 \n",
      " 25  HEI2015C9_FATTYACID       5060 non-null   float64 \n",
      " 26  HEI2015C10_SODIUM         5060 non-null   float64 \n",
      " 27  HEI2015C11_REFINEDGRAIN   5060 non-null   float64 \n",
      " 28  HEI2015C12_SFAT           5060 non-null   float64 \n",
      " 29  HEI2015C13_ADDSUG         5060 non-null   float64 \n",
      " 30  HEI2015_TOTAL_SCORE       5060 non-null   float64 \n",
      "dtypes: category(5), float64(24), int64(2)\n",
      "memory usage: 1.1 MB\n"
     ]
    }
   ],
   "source": [
    "#ALGUMAS VARIÁVEIS CATEGÓRICAS ESTÃO COMO TIPO FLOAT. ALTERO PARA 'CATEGORY' PARA FACILITAR A ANÁLISE\n",
    "for column in ['RIAGENDR', 'RIDRETH1', 'DMDEDUC', 'INDFMINC', 'ADHERENCE']:\n",
    "#    print(base[column].value_counts())\n",
    "    base[column] = base[column].astype('category')\n",
    "\n",
    "base.info()"
   ]
  },
  {
   "cell_type": "code",
   "execution_count": 11,
   "metadata": {},
   "outputs": [
    {
     "name": "stdout",
     "output_type": "stream",
     "text": [
      "Na coluna HEI2015C1_TOTALVEG o valor mínimo é 0.0 e o valor máximo é 5.0\n",
      "Na coluna HEI2015C2_GREEN_AND_BEAN o valor mínimo é 0.0 e o valor máximo é 5.0\n",
      "Na coluna HEI2015C3_TOTALFRUIT o valor mínimo é 0.0 e o valor máximo é 5.0\n",
      "Na coluna HEI2015C4_WHOLEFRUIT o valor mínimo é 0.0 e o valor máximo é 5.0\n",
      "Na coluna HEI2015C5_WHOLEGRAIN o valor mínimo é 0.0 e o valor máximo é 5.0\n",
      "Na coluna HEI2015C6_TOTALDAIRY o valor mínimo é 0.0 e o valor máximo é 5.0\n",
      "Na coluna HEI2015C7_TOTPROT o valor mínimo é 0.0 e o valor máximo é 5.0\n",
      "Na coluna HEI2015C8_SEAPLANT_PROT o valor mínimo é 0.0 e o valor máximo é 5.0\n",
      "Na coluna HEI2015C9_FATTYACID o valor mínimo é 0.0 e o valor máximo é 10.0\n",
      "Na coluna HEI2015C10_SODIUM o valor mínimo é 0.0 e o valor máximo é 10.0\n",
      "Na coluna HEI2015C11_REFINEDGRAIN o valor mínimo é 0.0 e o valor máximo é 10.0\n",
      "Na coluna HEI2015C12_SFAT o valor mínimo é 0.0 e o valor máximo é 10.0\n",
      "Na coluna HEI2015C13_ADDSUG o valor mínimo é 0.0 e o valor máximo é 10.0\n"
     ]
    }
   ],
   "source": [
    "#FALTA, AINDA, CHECAR SE NÃO EXISTEM VALORES ESTRANHOS NOS SCORES DO HEI, NESSE CASO, VERIFICO OS NÚMEROS MÍNIMOS E MÁXIMOS PARA SABER SE NÃO EXISTE NENHUM NÚMERO ESTRANHO ÀS BASES\n",
    "\n",
    "for col in base.loc[:, 'HEI2015C1_TOTALVEG': 'HEI2015C13_ADDSUG']:\n",
    "    min_ = base[col].min()\n",
    "    max_ = base[col].max()\n",
    "    print(f'Na coluna {base[col].name} o valor mínimo é {min_} e o valor máximo é {max_}')\n"
   ]
  },
  {
   "cell_type": "markdown",
   "metadata": {},
   "source": [
    "######  Há duas inconsistências aqui. As colunas de grãos integrais (WHOLEGRAIN) e LATICÍNIOS (TOTALDAIRY) vão de 0 a 10 segundo a documentação, mas na base os valores vão de 0-5. Pela exatidão dos valores imagino que há problemas na documentação."
   ]
  },
  {
   "cell_type": "markdown",
   "metadata": {},
   "source": [
    "#### 2.2 Tratamento de valores nulos"
   ]
  },
  {
   "cell_type": "code",
   "execution_count": 14,
   "metadata": {},
   "outputs": [
    {
     "data": {
      "text/plain": [
       "SEQN                         0\n",
       "DPQ010                       0\n",
       "DPQ020                       0\n",
       "DPQ030                       0\n",
       "DPQ040                       0\n",
       "DPQ050                       0\n",
       "DPQ060                       0\n",
       "DPQ070                       0\n",
       "DPQ080                       0\n",
       "DPQ090                       0\n",
       "RIAGENDR                     0\n",
       "RIDAGEYR                     0\n",
       "RIDRETH1                     0\n",
       "DMDEDUC                      0\n",
       "INDFMINC                    36\n",
       "PAG_MINW                     0\n",
       "ADHERENCE                    0\n",
       "HEI2015C1_TOTALVEG          99\n",
       "HEI2015C2_GREEN_AND_BEAN    99\n",
       "HEI2015C3_TOTALFRUIT        99\n",
       "HEI2015C4_WHOLEFRUIT        99\n",
       "HEI2015C5_WHOLEGRAIN        99\n",
       "HEI2015C6_TOTALDAIRY        99\n",
       "HEI2015C7_TOTPROT           99\n",
       "HEI2015C8_SEAPLANT_PROT     99\n",
       "HEI2015C9_FATTYACID         99\n",
       "HEI2015C10_SODIUM           99\n",
       "HEI2015C11_REFINEDGRAIN     99\n",
       "HEI2015C12_SFAT             99\n",
       "HEI2015C13_ADDSUG           99\n",
       "HEI2015_TOTAL_SCORE         99\n",
       "dtype: int64"
      ]
     },
     "execution_count": 14,
     "metadata": {},
     "output_type": "execute_result"
    }
   ],
   "source": [
    "#ENCONTRANDO OS VALORES NULOS DA BASE\n",
    "base.isnull().sum()\n",
    "#base.dropna(axis=0, subset='DPQ010', inplace=True)"
   ]
  },
  {
   "cell_type": "markdown",
   "metadata": {},
   "source": [
    "###### Como a base de saúde mental é maior do que as outras, existem 498 valores nulos em cada uma das colunas importadas do PHQ, referentes às entradas que não tem sequência numérica encontrada na base de nutrição e esportes. Como a análise é principalmente referente à relação entre essas duas colunas, removi as linhas sem valores para a base de hábitos saudáveis. "
   ]
  },
  {
   "cell_type": "code",
   "execution_count": 32,
   "metadata": {},
   "outputs": [],
   "source": [
    "#COM OS VALORES NULOS REFERENTES AO PHQ REMOVIDOS, É HORA DE TRATAR OS NULOS DAS BASES DE HÁBITOS SAUDÁVEIS. PARA O CASO DA VARIÁVEL CATEGÓRICA O PREENCHIMENTO É FEITO COM A MODA, ISSO É, A CATEGORIA QUE APARECE MAIS. NO CASO DOS DADOS NUMÉRICOS É NECESSÁRIO, PRIMEIRO, VERIFICAR A DISTRIBUIÇÃO DOS DADOS, CASO AS DISTRIBUIÇÕES SEJAM NORMAIS, SERÁ ADOTADO A MÉDIA PARA PREECHIMENTO DOS DADOS FALTANTES, CASO A DISTRIBUIÇÃO SEJA DESIGUAL OS DADOS SERÃO TRATADOS COM A UTILIZAÇÃO DA MEDIANA.\n",
    "\n",
    "lista_histogramas = [base[col].name for col in base.columns if base[col].name[0:7] == 'HEI2015'] \n",
    "\n",
    "def plot_histogramas(lista):\n",
    "    figure, axes = plt.subplots(2, round(len(lista_histogramas)/2), figsize=(25,10), facecolor='white')\n",
    "\n",
    "    x, y = 0, 0\n",
    "    for col in lista:\n",
    "        axes[x, y].hist(x=base[col], color='#C3C49E')\n",
    "        axes[x, y].axvline(base[col].mean(), color='#524632')\n",
    "        axes[x, y].axvline(base[col].median(), color='red', linestyle='--')\n",
    "        axes[x, y].set_xlabel(col)\n",
    "        axes[x, y].xaxis.set_label_position('top')\n",
    "        if x == y == 0:\n",
    "            x += 1\n",
    "        elif x == 1:\n",
    "            y += 1\n",
    "            x = 0\n",
    "        elif x == 0:\n",
    "            x += 1\n",
    "\n",
    "    figure.suptitle('Figura 1 - Histogramas de distribuição das variáveis na base', fontsize=16)"
   ]
  },
  {
   "cell_type": "code",
   "execution_count": 94,
   "metadata": {},
   "outputs": [
    {
     "data": {
      "image/png": "[encoded data removed]",
      "text/plain": [
       "<Figure size 1800x720 with 14 Axes>"
      ]
     },
     "metadata": {},
     "output_type": "display_data"
    }
   ],
   "source": [
    "plot_histogramas(lista_histogramas)"
   ]
  },
  {
   "cell_type": "code",
   "execution_count": 34,
   "metadata": {},
   "outputs": [
    {
     "data": {
      "text/plain": [
       "SEQN                        0\n",
       "DPQ010                      0\n",
       "DPQ020                      0\n",
       "DPQ030                      0\n",
       "DPQ040                      0\n",
       "DPQ050                      0\n",
       "DPQ060                      0\n",
       "DPQ070                      0\n",
       "DPQ080                      0\n",
       "DPQ090                      0\n",
       "RIAGENDR                    0\n",
       "RIDAGEYR                    0\n",
       "RIDRETH1                    0\n",
       "DMDEDUC                     0\n",
       "INDFMINC                    0\n",
       "PAG_MINW                    0\n",
       "ADHERENCE                   0\n",
       "HEI2015C1_TOTALVEG          0\n",
       "HEI2015C2_GREEN_AND_BEAN    0\n",
       "HEI2015C3_TOTALFRUIT        0\n",
       "HEI2015C4_WHOLEFRUIT        0\n",
       "HEI2015C5_WHOLEGRAIN        0\n",
       "HEI2015C6_TOTALDAIRY        0\n",
       "HEI2015C7_TOTPROT           0\n",
       "HEI2015C8_SEAPLANT_PROT     0\n",
       "HEI2015C9_FATTYACID         0\n",
       "HEI2015C10_SODIUM           0\n",
       "HEI2015C11_REFINEDGRAIN     0\n",
       "HEI2015C12_SFAT             0\n",
       "HEI2015C13_ADDSUG           0\n",
       "HEI2015_TOTAL_SCORE         0\n",
       "dtype: int64"
      ]
     },
     "execution_count": 34,
     "metadata": {},
     "output_type": "execute_result"
    }
   ],
   "source": [
    "#COMO EM TODOS OS CASOS A MÉDIA E A MEDIANA NÃO ESTIVERAM MUITO DISPERSAS, PREENCHO TODAS AS VARIÁVEIS NUMÉRICAS COM SUAS MÉDIAS\n",
    "moda_indfminc = base['INDFMINC'].mode()\n",
    "\n",
    "base.loc[:, 'INDFMINC'].fillna(moda_indfminc, inplace=True)\n",
    "[base[col].fillna(base[col].mean(), inplace=True) for col in lista_histogramas]\n",
    "\n",
    "#base.isnull().sum()\n"
   ]
  }
 ],
 "metadata": {
  "kernelspec": {
   "display_name": "Python 3.9.6 64-bit",
   "language": "python",
   "name": "python3"
  },
  "language_info": {
   "codemirror_mode": {
    "name": "ipython",
    "version": 3
   },
   "file_extension": ".py",
   "mimetype": "text/x-python",
   "name": "python",
   "nbconvert_exporter": "python",
   "pygments_lexer": "ipython3",
   "version": "3.9.6"
  },
  "orig_nbformat": 4,
  "vscode": {
   "interpreter": {
    "hash": "d1b1fed7f164b9743db0488a8442b0484c62425777d2b5a8f2dd650d8bcba271"
   }
  }
 },
 "nbformat": 4,
 "nbformat_minor": 2
}
